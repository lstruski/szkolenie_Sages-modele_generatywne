{
 "cells": [
  {
   "cell_type": "markdown",
   "id": "23825e59",
   "metadata": {},
   "source": [
    "<h1 align=\"center\">\n",
    "  Nienadzorowana reprezentacja autoenkodery i modele generatywne\n",
    "</h1>\n",
    "\n",
    "<h4 align=\"center\">\n",
    "  12.10.2023\n",
    "</h4>\n",
    "<br/>\n",
    "\n",
    "\n",
    "# Przekształcanie obrazów\n",
    "\n",
    "### Importowanie niezbędnych modułow"
   ]
  },
  {
   "cell_type": "code",
   "execution_count": null,
   "id": "c63aad61",
   "metadata": {},
   "outputs": [],
   "source": [
    "import matplotlib.pyplot as plt\n",
    "import seaborn as sns\n",
    "\n",
    "import numpy as np\n",
    "import torch\n",
    "import torchvision\n",
    "from torchvision import datasets, models, transforms\n",
    "\n",
    "\n",
    "sns.set(font_scale=2.5)\n",
    "sns.set_style(\"whitegrid\")"
   ]
  },
  {
   "cell_type": "code",
   "execution_count": null,
   "id": "6bd8be88",
   "metadata": {},
   "outputs": [],
   "source": [
    "def show(imgs, num_col=None):\n",
    "    plt.figure(figsize=[16, 8])\n",
    "    grid = torchvision.utils.make_grid(\n",
    "        imgs, nrow=num_col, padding=1, normalize=True, scale_each=True\n",
    "    )\n",
    "    np_grid = grid.cpu().numpy()\n",
    "    plt.axis(\"off\")\n",
    "    plt.imshow(np.transpose(np_grid, (1, 2, 0)), interpolation=\"nearest\")"
   ]
  },
  {
   "cell_type": "markdown",
   "id": "8b4c168e",
   "metadata": {},
   "source": [
    "## Normalizacja\n",
    "Normalizcja obrazu na podstawie średniej i odchylenia standardowego. \n",
    "```\n",
    "output[channel] = (input[channel] - mean[channel]) / std[channel]\n",
    "```"
   ]
  },
  {
   "cell_type": "code",
   "execution_count": null,
   "id": "30833273",
   "metadata": {},
   "outputs": [],
   "source": [
    "root = \"../datasets/cifar10\"\n",
    "download = True\n",
    "\n",
    "transform = transforms.Compose(\n",
    "    [transforms.ToTensor(), transforms.Normalize((0.5, 0.5, 0.5), (0.5, 0.5, 0.5))]\n",
    ")\n",
    "\n",
    "trainset = datasets.CIFAR10(\n",
    "    root=root, train=True, download=download, transform=transform\n",
    ")\n",
    "train_loader = torch.utils.data.DataLoader(\n",
    "    trainset, batch_size=10, shuffle=True, num_workers=2\n",
    ")"
   ]
  },
  {
   "cell_type": "code",
   "execution_count": null,
   "id": "e31f46f0",
   "metadata": {},
   "outputs": [],
   "source": [
    "it = iter(train_loader)\n",
    "d = next(it)\n",
    "print(d[0].shape)\n",
    "print(torch.min(d[0]), torch.max(d[0]))\n",
    "\n",
    "show(d[0], num_col=10)"
   ]
  },
  {
   "cell_type": "markdown",
   "id": "13d46c51",
   "metadata": {},
   "source": [
    "## Random Horizontal Flip\n",
    "Losowe odwrócenie w poziomie to prosta technika polegająca na odwróceniu obrazu w poziomie z określonym prawdopodobieństwem. Może to pomóc modelowi nauczyć się tego samego obiektu z różnych punktów widzenia."
   ]
  },
  {
   "cell_type": "code",
   "execution_count": null,
   "id": "80e25420",
   "metadata": {},
   "outputs": [],
   "source": [
    "transform = transforms.Compose([\n",
    "    transforms.ToTensor(),\n",
    "])\n",
    "\n",
    "trainset = datasets.CIFAR10(\n",
    "    root=root, train=True, download=download, transform=transform\n",
    ")\n",
    "train_loader = torch.utils.data.DataLoader(\n",
    "    trainset, batch_size=30, shuffle=False, num_workers=2\n",
    ")\n",
    "\n",
    "it = iter(train_loader)\n",
    "d = next(it)\n",
    "print(d[0].shape)\n",
    "print(torch.min(d[0]), torch.max(d[0]))\n",
    "\n",
    "show(d[0], num_col=10)\n",
    "\n",
    "\n",
    "transform = transforms.Compose([\n",
    "    transforms.ToTensor(),\n",
    "    transforms.RandomHorizontalFlip(p=0.5)\n",
    "])\n",
    "trainset = datasets.CIFAR10(\n",
    "    root=root, train=True, download=download, transform=transform\n",
    ")\n",
    "train_loader = torch.utils.data.DataLoader(\n",
    "    trainset, batch_size=30, shuffle=False, num_workers=2\n",
    ")\n",
    "\n",
    "it = iter(train_loader)\n",
    "d = next(it)\n",
    "show(d[0], num_col=10)"
   ]
  },
  {
   "cell_type": "markdown",
   "id": "5722db0a",
   "metadata": {},
   "source": [
    "## Random Rotation\n",
    "Losowy obrót to technika losowego obracania obrazu o określony kąt. Może to pomóc modelowi nauczyć się tego samego obiektu pod różnymi kątami."
   ]
  },
  {
   "cell_type": "code",
   "execution_count": null,
   "id": "221d3661",
   "metadata": {},
   "outputs": [],
   "source": [
    "transform = transforms.Compose([\n",
    "    transforms.ToTensor(),\n",
    "    transforms.RandomRotation(degrees=15)\n",
    "])\n",
    "trainset = datasets.CIFAR10(\n",
    "    root=root, train=True, download=download, transform=transform\n",
    ")\n",
    "train_loader = torch.utils.data.DataLoader(\n",
    "    trainset, batch_size=30, shuffle=False, num_workers=2\n",
    ")\n",
    "\n",
    "it = iter(train_loader)\n",
    "d = next(it)\n",
    "show(d[0], num_col=10)"
   ]
  },
  {
   "cell_type": "markdown",
   "id": "b6772ace",
   "metadata": {},
   "source": [
    "## Resize\n",
    "Zmiana rozmiaru obrazka"
   ]
  },
  {
   "cell_type": "code",
   "execution_count": null,
   "id": "c5a64a27",
   "metadata": {},
   "outputs": [],
   "source": [
    "transform = transforms.Compose([\n",
    "   transforms.Resize(size=42),\n",
    "    transforms.ToTensor(),\n",
    "])\n",
    "trainset = datasets.CIFAR10(\n",
    "    root=root, train=True, download=download, transform=transform\n",
    ")\n",
    "train_loader = torch.utils.data.DataLoader(\n",
    "    trainset, batch_size=30, shuffle=False, num_workers=2\n",
    ")\n",
    "\n",
    "it = iter(train_loader)\n",
    "d = next(it)\n",
    "print(d[0].shape)\n",
    "show(d[0], num_col=10)"
   ]
  },
  {
   "cell_type": "markdown",
   "id": "ab1a5c77",
   "metadata": {},
   "source": [
    "## Random Crop\n",
    "Losowe kadrowanie to technika polegająca na losowym przycinaniu obrazu do określonego rozmiaru. Może to pomóc modelowi nauczyć się skupiać na ważnych częściach obrazu."
   ]
  },
  {
   "cell_type": "code",
   "execution_count": null,
   "id": "c74123a3",
   "metadata": {},
   "outputs": [],
   "source": [
    "transform = transforms.Compose([\n",
    "    transforms.Resize(size=42),\n",
    "    transforms.ToTensor(),\n",
    "    transforms.RandomCrop(size=32)\n",
    "])\n",
    "trainset = datasets.CIFAR10(\n",
    "    root=root, train=True, download=download, transform=transform\n",
    ")\n",
    "train_loader = torch.utils.data.DataLoader(\n",
    "    trainset, batch_size=30, shuffle=False, num_workers=2\n",
    ")\n",
    "\n",
    "it = iter(train_loader)\n",
    "d = next(it)\n",
    "print(d[0].shape)\n",
    "show(d[0], num_col=10)"
   ]
  },
  {
   "cell_type": "markdown",
   "id": "0f1957a1",
   "metadata": {},
   "source": [
    "## Color Jitter\n",
    "Drgania kolorów to technika losowo zmieniająca jasność, kontrast, nasycenie i odcień obrazu. Może to pomóc modelowi nauczyć się odporności na zmiany w schemacie kolorów."
   ]
  },
  {
   "cell_type": "code",
   "execution_count": null,
   "id": "8bc4a0d9",
   "metadata": {},
   "outputs": [],
   "source": [
    "transform = transforms.Compose([\n",
    "    transforms.ToTensor(),\n",
    "])\n",
    "trainset = datasets.CIFAR10(\n",
    "    root=root, train=True, download=download, transform=transform\n",
    ")\n",
    "train_loader = torch.utils.data.DataLoader(\n",
    "    trainset, batch_size=30, shuffle=False, num_workers=2\n",
    ")\n",
    "\n",
    "it = iter(train_loader)\n",
    "d = next(it)\n",
    "print(d[0].shape)\n",
    "show(d[0], num_col=10)\n",
    "\n",
    "\n",
    "transform = transforms.Compose([\n",
    "    transforms.ToTensor(),\n",
    "    transforms.ColorJitter(brightness=0.1, contrast=0.1, saturation=0.1, hue=0.1),\n",
    "])\n",
    "trainset = datasets.CIFAR10(\n",
    "    root=root, train=True, download=download, transform=transform\n",
    ")\n",
    "train_loader = torch.utils.data.DataLoader(\n",
    "    trainset, batch_size=30, shuffle=False, num_workers=2\n",
    ")\n",
    "\n",
    "it = iter(train_loader)\n",
    "d = next(it)\n",
    "print(d[0].shape)\n",
    "show(d[0], num_col=10)"
   ]
  },
  {
   "cell_type": "markdown",
   "id": "c622a8a2",
   "metadata": {},
   "source": [
    "## Gaussian Blur\n",
    "Rozmycie gaussowskie to technika polegająca na dodaniu do obrazu losowego szumu gaussowskiego. Może to pomóc modelowi nauczyć się odporności na szumy na obrazie."
   ]
  },
  {
   "cell_type": "code",
   "execution_count": null,
   "id": "80e91459",
   "metadata": {},
   "outputs": [],
   "source": [
    "transform = transforms.Compose([\n",
    "    transforms.ToTensor(),\n",
    "])\n",
    "trainset = datasets.CIFAR10(\n",
    "    root=root, train=True, download=download, transform=transform\n",
    ")\n",
    "train_loader = torch.utils.data.DataLoader(\n",
    "    trainset, batch_size=30, shuffle=False, num_workers=2\n",
    ")\n",
    "\n",
    "it = iter(train_loader)\n",
    "d = next(it)\n",
    "print(d[0].shape)\n",
    "show(d[0], num_col=10)\n",
    "\n",
    "\n",
    "transform = transforms.Compose([\n",
    "    transforms.ToTensor(),\n",
    "    transforms.GaussianBlur(kernel_size=3),\n",
    "])\n",
    "trainset = datasets.CIFAR10(\n",
    "    root=root, train=True, download=download, transform=transform\n",
    ")\n",
    "train_loader = torch.utils.data.DataLoader(\n",
    "    trainset, batch_size=30, shuffle=False, num_workers=2\n",
    ")\n",
    "\n",
    "it = iter(train_loader)\n",
    "d = next(it)\n",
    "print(d[0].shape)\n",
    "show(d[0], num_col=10)"
   ]
  },
  {
   "cell_type": "markdown",
   "id": "130d0db8",
   "metadata": {},
   "source": [
    "## RandomErasing\n",
    "Technika powiększania obrazu RandomErasing losowo wybiera prostokątny obszar na oryginalnym obrazie i usuwa wszystkie piksele z tego obszaru. Prawdopodobieństwo lub operację kasowania można kontrolować za pomocą atrybutu „p”, którego wartość waha się od $0 \\leq p\\leq 1$."
   ]
  },
  {
   "cell_type": "code",
   "execution_count": null,
   "id": "d77613d8",
   "metadata": {},
   "outputs": [],
   "source": [
    "transform = transforms.Compose([\n",
    "    transforms.ToTensor(),\n",
    "])\n",
    "trainset = datasets.CIFAR10(\n",
    "    root=root, train=True, download=download, transform=transform\n",
    ")\n",
    "train_loader = torch.utils.data.DataLoader(\n",
    "    trainset, batch_size=30, shuffle=False, num_workers=2\n",
    ")\n",
    "\n",
    "it = iter(train_loader)\n",
    "d = next(it)\n",
    "print(d[0].shape)\n",
    "show(d[0], num_col=10)\n",
    "\n",
    "\n",
    "transform = transforms.Compose([\n",
    "    transforms.ToTensor(),\n",
    "    transforms.RandomErasing(p=.7)\n",
    "])\n",
    "trainset = datasets.CIFAR10(\n",
    "    root=root, train=True, download=download, transform=transform\n",
    ")\n",
    "train_loader = torch.utils.data.DataLoader(\n",
    "    trainset, batch_size=30, shuffle=False, num_workers=2\n",
    ")\n",
    "\n",
    "it = iter(train_loader)\n",
    "d = next(it)\n",
    "print(d[0].shape)\n",
    "show(d[0], num_col=10)"
   ]
  },
  {
   "cell_type": "markdown",
   "id": "551342f3",
   "metadata": {},
   "source": [
    "Więcej transformacji można znaleźć [tutaj](https://pytorch.org/vision/master/transforms.html)."
   ]
  },
  {
   "cell_type": "markdown",
   "id": "93a08980",
   "metadata": {},
   "source": [
    "## Zaszumianie orazów"
   ]
  },
  {
   "cell_type": "code",
   "execution_count": null,
   "id": "5758602a",
   "metadata": {},
   "outputs": [],
   "source": [
    "def denoising(images, noise_factor, min_clip=None, max_clip=None):\n",
    "    noisy_imgs = images + noise_factor * torch.randn_like(images)\n",
    "    return torch.clamp(noisy_imgs, min=min_clip, max=max_clip)"
   ]
  },
  {
   "cell_type": "code",
   "execution_count": null,
   "id": "27fb6fd7",
   "metadata": {},
   "outputs": [],
   "source": [
    "transform = transforms.Compose([\n",
    "    transforms.ToTensor(),\n",
    "])\n",
    "trainset = datasets.CIFAR10(\n",
    "    root=root, train=True, download=download, transform=transform\n",
    ")\n",
    "train_loader = torch.utils.data.DataLoader(\n",
    "    trainset, batch_size=30, shuffle=False, num_workers=2\n",
    ")\n",
    "\n",
    "it = iter(train_loader)\n",
    "d = next(it)\n",
    "print(d[0].shape)\n",
    "show(d[0], num_col=10)\n",
    "\n",
    "it = iter(train_loader)\n",
    "d = next(it)\n",
    "d = denoising(d[0], 0.1, min_clip=0, max_clip=1)\n",
    "show(d, num_col=10)"
   ]
  },
  {
   "cell_type": "markdown",
   "id": "4e1cb9aa",
   "metadata": {},
   "source": [
    "# Denoising AE\n",
    "Używając funkcji zaszumiania obrazów, napisz model ,,denoising AE'' (na wejściu przyjmuje zaszumione dane, a na wyjściu zwraca obrazy bez szumu). Naucz model na zaszumionym zbiorze MNIST i oblicz błąd MSE między oryginalnymi obrazami MNISTa (niezaszumionymi), a rekonstrukcjami zaszumionych obrazów."
   ]
  },
  {
   "cell_type": "code",
   "execution_count": null,
   "id": "dee764ca",
   "metadata": {},
   "outputs": [],
   "source": []
  }
 ],
 "metadata": {
  "kernelspec": {
   "display_name": "Python 3 (ipykernel)",
   "language": "python",
   "name": "python3"
  },
  "language_info": {
   "codemirror_mode": {
    "name": "ipython",
    "version": 3
   },
   "file_extension": ".py",
   "mimetype": "text/x-python",
   "name": "python",
   "nbconvert_exporter": "python",
   "pygments_lexer": "ipython3",
   "version": "3.11.4"
  }
 },
 "nbformat": 4,
 "nbformat_minor": 5
}
