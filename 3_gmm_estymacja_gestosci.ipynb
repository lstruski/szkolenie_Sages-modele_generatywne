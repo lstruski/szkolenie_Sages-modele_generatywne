{
 "cells": [
  {
   "cell_type": "markdown",
   "id": "7dd6f7aa",
   "metadata": {},
   "source": [
    "<h1 align=\"center\">\n",
    "  Nienadzorowana reprezentacja autoenkodery i modele generatywne\n",
    "</h1>\n",
    "\n",
    "<h4 align=\"center\">\n",
    "  11.10.2023\n",
    "</h4>\n",
    "<br/>\n"
   ]
  },
  {
   "cell_type": "markdown",
   "id": "2beb1718",
   "metadata": {},
   "source": [
    "## Mieszanina rozkładów normalnych i estymacja gęstości\n",
    "\n",
    "### Mieszanina rozkładów (GMM)\n",
    "\n",
    "Zobacz <a href=\"https://en.wikipedia.org/wiki/Mixture_model\">tutaj</a>. Klasa <a href=\"http://scikit-learn.org/stable/modules/generated/sklearn.mixture.GaussianMixture.html#sklearn.mixture.GaussianMixture\">GaussianMixture</a> dostarcza nam narzędzi, którymi możemy opisywać dane jako mieszaninę rozkładów normalnych."
   ]
  },
  {
   "cell_type": "code",
   "execution_count": null,
   "id": "1b9ca7e2",
   "metadata": {},
   "outputs": [],
   "source": [
    "import numpy as np\n",
    "import matplotlib.pyplot as plt\n",
    "\n",
    "from sklearn import mixture\n",
    "\n",
    "n = 200\n",
    "mean = [-4, -5]\n",
    "cov = [[1, 2], [2, 5]]\n",
    "X = np.random.multivariate_normal(mean, cov, n)\n",
    "y = -np.ones(n)\n",
    "\n",
    "n = 300\n",
    "mean = [3, 3]\n",
    "cov = [[1, 0], [0, 1]]\n",
    "X = np.concatenate((X, np.random.multivariate_normal(mean, cov, n)), axis=0)\n",
    "y = np.concatenate((y, np.ones(n)), axis=0) \n",
    "\n",
    "n = 250\n",
    "mean = [2, -7]\n",
    "cov = [[1, 0], [0, 1]]\n",
    "X = np.concatenate((X, np.random.multivariate_normal(mean, cov, n)), axis=0)\n",
    "y = np.concatenate((y, 2*np.ones(n)), axis=0) \n",
    "\n",
    "permut = np.random.permutation(y.size)\n",
    "\n",
    "X = X[permut, :]\n",
    "labels_true = y[permut]\n",
    "\n",
    "#----------------------------------------------------------------------\n",
    "# Visualize the clustering\n",
    "def plot_clustering(X, labels, title=None):\n",
    "\n",
    "    plt.figure(figsize=(6, 6))\n",
    "    plt.scatter(X[:, 0], X[:, 1], c=labels)\n",
    "    \n",
    "    plt.xticks([])\n",
    "    plt.yticks([])\n",
    "    if title is not None:\n",
    "        plt.title(title, size=17)\n",
    "#     plt.axis('off')\n",
    "    plt.tight_layout()\n",
    "    \n",
    "plot_clustering(X, labels_true, \"Original\")\n",
    "plt.show()\n",
    "\n",
    "#----------------------------------------------------------------------\n",
    "\n",
    "gmm = mixture.GaussianMixture(n_components=3, covariance_type='full').fit(X)\n",
    "gmm.predict(X)\n",
    "print('Srednie:\\n')\n",
    "print(gmm.means_)\n",
    "\n",
    "print('\\n\\nKowariancje:\\n')\n",
    "print(gmm.covariances_)\n",
    "\n"
   ]
  },
  {
   "cell_type": "code",
   "execution_count": null,
   "id": "129735f0",
   "metadata": {},
   "outputs": [],
   "source": [
    "from sklearn.datasets import load_digits\n",
    "\n",
    "\n",
    "mnist = load_digits(n_class=10)\n",
    "x, y = mnist.data, mnist.target\n",
    "print(np.unique(y, return_counts=True))\n",
    "\n",
    "idx = np.random.choice(y.size)\n",
    "fig, ax = plt.subplots(figsize=(2, 2))\n",
    "ax.imshow(x[idx].reshape((8, 8)), cmap=plt.cm.gray)\n",
    "ax.axis(\"off\")\n",
    "plt.title(f'digit: {y[idx]}')\n",
    "plt.show()\n",
    "plt.close()\n"
   ]
  },
  {
   "cell_type": "markdown",
   "id": "bb081be5",
   "metadata": {},
   "source": [
    "### Zadanie\n",
    "Korzystając z klasy ,,GaussianMixture'' wyznacz mieszaninę rozkładów normalnych dla każdej z cyfr. Wygeneruj kilka przykładowych obrazków ze znalezionego rozkładu normalnego. Możesz wykorzystać funkcję [multivariate_normal](https://numpy.org/doc/stable/reference/random/generated/numpy.random.multivariate_normal.html) do generowania sampli. "
   ]
  },
  {
   "cell_type": "code",
   "execution_count": null,
   "id": "59dd88ef",
   "metadata": {},
   "outputs": [],
   "source": []
  },
  {
   "cell_type": "markdown",
   "id": "00f468a3",
   "metadata": {},
   "source": [
    "## Estymacja gęstości"
   ]
  },
  {
   "cell_type": "code",
   "execution_count": null,
   "id": "dce0b899",
   "metadata": {},
   "outputs": [],
   "source": [
    "import matplotlib.pyplot as plt\n",
    "import numpy as np\n",
    "\n",
    "\n",
    "mu = 4\n",
    "sigma = 5\n",
    "n = 1000\n",
    "x = np.random.normal(loc=mu_1, scale=sigma_1, size=n)\n",
    "\n",
    "num_bins = 100\n",
    "fig, ax = plt.subplots(figsize=(10, 6))\n",
    "n, bins, patches = ax.hist(x, num_bins, density=True)\n",
    "\n",
    "y = ((1 / (np.sqrt(2 * np.pi) * sigma)) * np.exp(-0.5 * (1 / sigma * (bins - mu))**2))\n",
    "ax.plot(bins, y, '--r')\n",
    "\n",
    "plt.show()\n",
    "plt.close()\n"
   ]
  },
  {
   "cell_type": "code",
   "execution_count": null,
   "id": "bb0ef371",
   "metadata": {},
   "outputs": [],
   "source": [
    "from sklearn.neighbors import KernelDensity\n",
    "\n",
    "\n",
    "n, m = 1000, .3\n",
    "x = np.random.randn(n)\n",
    "x[int(m * n):] += 3\n",
    "\n",
    "kde = KernelDensity(kernel='gaussian', bandwidth=0.1).fit(x[:, None])\n",
    "\n",
    "v = np.linspace(-5, 10, 1000)\n",
    "# score_samples returns the log of the probability density\n",
    "logprob = kde.score_samples(v[:, None])\n",
    "\n",
    "num_bins = 50\n",
    "fig, axs = plt.subplots(nrows=3, ncols=1, figsize=(6, 10), sharex=True)\n",
    "axs[0].hist(x, num_bins, density=True)\n",
    "axs[1].fill_between(v, np.exp(logprob), alpha=0.5)\n",
    "axs[1].plot(v, np.exp(logprob), \"-r\")\n",
    "axs[1].plot(x, np.full_like(x, -0.01), '|k', markeredgewidth=1)\n",
    "\n",
    "axs[2].hist(x, num_bins, density=True)\n",
    "axs[2].fill_between(v, np.exp(logprob), alpha=0.5)\n",
    "axs[2].plot(v, np.exp(logprob), \"-r\")\n",
    "\n",
    "# plt.ylim(-0.02, 0.22)\n",
    "plt.show()\n",
    "plt.close()"
   ]
  },
  {
   "cell_type": "markdown",
   "id": "03e755d5",
   "metadata": {},
   "source": [
    "## Zadanie\n",
    "\n",
    "Wykonaj estymację gęstości zbioru cyfr (można zmniejszyć ich wymiarowość aby obliczenia trwały krócej), a następnie wygeneruj losowo kilka cyfr i je narysuj."
   ]
  },
  {
   "cell_type": "code",
   "execution_count": null,
   "id": "72a59ccc",
   "metadata": {},
   "outputs": [],
   "source": []
  }
 ],
 "metadata": {
  "kernelspec": {
   "display_name": "Python 3 (ipykernel)",
   "language": "python",
   "name": "python3"
  },
  "language_info": {
   "codemirror_mode": {
    "name": "ipython",
    "version": 3
   },
   "file_extension": ".py",
   "mimetype": "text/x-python",
   "name": "python",
   "nbconvert_exporter": "python",
   "pygments_lexer": "ipython3",
   "version": "3.11.4"
  }
 },
 "nbformat": 4,
 "nbformat_minor": 5
}
